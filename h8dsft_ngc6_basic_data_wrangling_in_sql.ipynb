{
 "cells": [
  {
   "cell_type": "markdown",
   "metadata": {},
   "source": [
    "# NGC 6 Week 2"
   ]
  },
  {
   "cell_type": "markdown",
   "metadata": {},
   "source": [
    "- berapa tabel pada dataset austin_bikeshare"
   ]
  },
  {
   "cell_type": "markdown",
   "metadata": {},
   "source": [
    "```sql\n",
    "SELECT Count(*)\n",
    "FROM austin_bikeshare.INFORMATION_SCHEMA.TABLES\n",
    "WHERE TABLE_TYPE = 'BASE TABLE' AND TABLE_NAME LIKE 'austin%';"
   ]
  },
  {
   "cell_type": "markdown",
   "metadata": {},
   "source": [
    "- berapa kolom pada tabel austin_bikeshare_stations memiliki data string"
   ]
  },
  {
   "cell_type": "markdown",
   "metadata": {},
   "source": [
    "```sql\n",
    "SELECT Count(*)\n",
    "FROM INFORMATION_SCHEMA.COLUMNS\n",
    "WHERE table_name = 'austin_bikeshare_stations'\n",
    "AND data_type = 'character varying';"
   ]
  },
  {
   "cell_type": "markdown",
   "metadata": {},
   "source": [
    "- ambil trip yang tidak null dan durasi menit lebih dari 1000"
   ]
  },
  {
   "cell_type": "markdown",
   "metadata": {},
   "source": [
    "```sql\n",
    "SELECT *\n",
    "FROM austin_bikeshare_trips\n",
    "WHERE bikeid IS NOT NULL AND duration_minutes > 1000;"
   ]
  },
  {
   "cell_type": "markdown",
   "metadata": {},
   "source": [
    "- ambil trip dengan bike_id Walk Up dan end_station_name Stolen"
   ]
  },
  {
   "cell_type": "markdown",
   "metadata": {},
   "source": [
    "```sql\n",
    "SELECT *\n",
    "FROM austin_bikeshare_trips\n",
    "WHERE subscriber_type = 'Walk Up' AND end_station_name = 'Stolen'"
   ]
  },
  {
   "cell_type": "markdown",
   "metadata": {},
   "source": [
    "Untuk bagian ini bike_id diganti menjadi subscriber_type karena di data saya data Walk Up hanya ada pada kolom subscriber_type"
   ]
  }
 ],
 "metadata": {
  "language_info": {
   "name": "python"
  }
 },
 "nbformat": 4,
 "nbformat_minor": 2
}
