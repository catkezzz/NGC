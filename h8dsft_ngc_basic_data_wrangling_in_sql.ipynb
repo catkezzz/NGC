{
 "cells": [
  {
   "cell_type": "markdown",
   "metadata": {},
   "source": [
    "# NGC 5 Week 2"
   ]
  },
  {
   "cell_type": "markdown",
   "metadata": {},
   "source": [
    "```sql\n",
    "CREATE TABLE customers (\n",
    "    customer_id INTEGER PRIMARY KEY,\n",
    "    customer_name VARCHAR(50),\n",
    "    city VARCHAR(30)\n",
    ");\n",
    "DROP TABLE orders\n",
    "CREATE TABLE orders (\n",
    "    order_id INTEGER PRIMARY KEY,\n",
    "    customer_id INTEGER,\n",
    "    order_date DATE,\n",
    "\ttotal_amount FLOAT\n",
    ");\n",
    "\n",
    "INSERT INTO customers(customer_id, customer_name, city)\n",
    "VALUES\n",
    "\t(1, 'John Doe', 'New York'),\n",
    "\t(2, 'Jane Smith', 'Los Angeles'),\n",
    "\t(3, 'David Johnson', 'Chicago');\n",
    "\n",
    "SELECT * FROM customers;\n",
    "\n",
    "INSERT INTO orders(order_id, customer_id, order_date, total_amount)\n",
    "VALUES\n",
    "\t(1, 1, '2022-01-10', 100.00),\n",
    "\t(2, 1,  '2022-02-15', 150.00),\n",
    "\t(3, 2, '2022-03-20', 200.00),\n",
    "\t(4, 3, '2022-04-25', 50.00);\n",
    "\n",
    "SELECT customers.customer_name, COUNT(orders.customer_id) AS total_orders\n",
    "FROM customers\n",
    "INNER JOIN orders ON orders.customer_id = customers.customer_id\n",
    "GROUP BY customers.customer_name;"
   ]
  }
 ],
 "metadata": {
  "language_info": {
   "name": "python"
  }
 },
 "nbformat": 4,
 "nbformat_minor": 2
}
