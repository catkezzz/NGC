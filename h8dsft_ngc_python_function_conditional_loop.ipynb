{
 "cells": [
  {
   "cell_type": "markdown",
   "metadata": {},
   "source": [
    "# NGC Phase 0 Week 1 Day 3"
   ]
  },
  {
   "cell_type": "markdown",
   "metadata": {},
   "source": [
    "## Task 1"
   ]
  },
  {
   "cell_type": "code",
   "execution_count": 9,
   "metadata": {},
   "outputs": [],
   "source": [
    "def number_of_word (sentence):\n",
    "    split_sentence = sentence.split()\n",
    "    return len(split_sentence)"
   ]
  },
  {
   "cell_type": "markdown",
   "metadata": {},
   "source": [
    "- String dipotong menggunakan fungsi `split()`\n",
    "- Dari split dihitung jumlah elemen string yang ada pada list `split_sentence`"
   ]
  },
  {
   "cell_type": "code",
   "execution_count": 23,
   "metadata": {},
   "outputs": [
    {
     "name": "stdout",
     "output_type": "stream",
     "text": [
      "Input:  Once Upon a Time in a faraway land\n",
      "Output:  8\n"
     ]
    }
   ],
   "source": [
    "input = 'Once Upon a Time in a faraway land'\n",
    "print (\"Input: \", input)\n",
    "print(\"Output: \", number_of_word(input))"
   ]
  },
  {
   "cell_type": "markdown",
   "metadata": {},
   "source": [
    "## Task 2"
   ]
  },
  {
   "cell_type": "code",
   "execution_count": 26,
   "metadata": {},
   "outputs": [],
   "source": [
    "def find_multiples (start_range, end_range, multiple):\n",
    "    multiples = []\n",
    "    for i in range (start_range, end_range+1):\n",
    "        if i % multiple == 0:\n",
    "            multiples.append(i)\n",
    "    \n",
    "    return multiples"
   ]
  },
  {
   "cell_type": "markdown",
   "metadata": {},
   "source": [
    "- Hasil pencarian kelipatan disimpan pada variabel list `multiples`\n",
    "- Dihitung modulus untuk memastikan apakah angka termasuk kelipatan, lalu ditambahkan pada list `multiples`"
   ]
  },
  {
   "cell_type": "code",
   "execution_count": 27,
   "metadata": {},
   "outputs": [
    {
     "name": "stdout",
     "output_type": "stream",
     "text": [
      "Input:  [1, 50, 10]\n",
      "Output:  [10, 20, 30, 40, 50]\n"
     ]
    }
   ],
   "source": [
    "input = [1, 50, 10]\n",
    "print(\"Input: \", input)\n",
    "print(\"Output: \", find_multiples(input[0], input[1], input[2]))"
   ]
  },
  {
   "cell_type": "markdown",
   "metadata": {},
   "source": [
    "## Task 3"
   ]
  },
  {
   "cell_type": "code",
   "execution_count": 43,
   "metadata": {},
   "outputs": [],
   "source": [
    "def Grade_Converter(convert_to, **students_score):\n",
    "    lettergrade = ''\n",
    "    gpa = 0.0\n",
    "    \n",
    "    for name, score in students_score.items():\n",
    "        if score >= 85:\n",
    "            lettergrade = 'A'\n",
    "            gpa = 4\n",
    "        elif score >= 70:\n",
    "            lettergrade = 'B'\n",
    "            gpa = 3\n",
    "        elif score >= 60:\n",
    "            lettergrade = 'C'\n",
    "            gpa = 2.5\n",
    "        elif score >= 50:\n",
    "            lettergrade = 'D'\n",
    "            gpa = 2\n",
    "        elif score >= 40:\n",
    "            lettergrade = 'E'\n",
    "            gpa = 1.5\n",
    "        else:\n",
    "            lettergrade = 'F'\n",
    "            gpa = 1\n",
    "        \n",
    "        if convert_to == 'letter_grade':\n",
    "            students_score[name] = lettergrade\n",
    "        else:\n",
    "            students_score[name] = gpa\n",
    "    \n",
    "    return students_score\n",
    "\n"
   ]
  },
  {
   "cell_type": "markdown",
   "metadata": {},
   "source": [
    "- GPA dan Letter Grade masing - masing dibuat variabel kosong untuk menyimpan nilai.\n",
    "- Menggunakan looping `for` untuk menelusuri data students_score pada input list sehingga didapat key-nya yaitu nama student dan value-nya yaitu score.\n",
    "- Menggunakan `if` dan `elif` untuk mendapatkan konversi score ke bentuk letter grade dan gpa.\n",
    "- Menggunakan `if` dan `else` untuk menentukan bentuk konversi, mengganti langsung value dari list students_score"
   ]
  },
  {
   "cell_type": "code",
   "execution_count": 44,
   "metadata": {},
   "outputs": [
    {
     "name": "stdout",
     "output_type": "stream",
     "text": [
      "Input GPA =  {'Adam': 62, 'Faiz': 91}\n",
      "Output GPA =  {'Adam': 2.5, 'Faiz': 4}\n",
      "Input Letter Grade =  {'Albert': 90, 'Dwi': 82, 'Syahdan': 58, 'Veronica': 84}\n",
      "Output Letter Grade =  {'Albert': 'A', 'Dwi': 'B', 'Syahdan': 'D', 'Veronica': 'B'}\n"
     ]
    }
   ],
   "source": [
    "students_score1 = {'Adam' : 62, 'Faiz' : 91}\n",
    "students_score2 = {'Albert' : 90, 'Dwi':82, 'Syahdan':58, 'Veronica':84}\n",
    "\n",
    "convertgpa = Grade_Converter('gpa', **students_score1)\n",
    "convertlettergrade = Grade_Converter('letter_grade', **students_score2)\n",
    "\n",
    "print('Input GPA = ', students_score1)\n",
    "print('Output GPA = ', convertgpa)\n",
    "print('Input Letter Grade = ', students_score2)\n",
    "print('Output Letter Grade = ', convertlettergrade)\n"
   ]
  },
  {
   "cell_type": "markdown",
   "metadata": {},
   "source": [
    "## Task 4"
   ]
  },
  {
   "cell_type": "code",
   "execution_count": 49,
   "metadata": {},
   "outputs": [],
   "source": [
    "def fibonacci(n):\n",
    "    array = [0,1]\n",
    "    for i in range(1,n):\n",
    "        nextnumber = array[i] + array[i-1]\n",
    "        array.append(nextnumber)\n",
    "        \n",
    "    return array[-1]"
   ]
  },
  {
   "cell_type": "markdown",
   "metadata": {},
   "source": [
    "- Diinisialisasi variabel array yang sudah berisi 0 dan 1\n",
    "- Looping dimulai dari indeks 1 karena perhitungan untuk angka selanjutnya mulai dari elemen 1 pada list\n",
    "- Dibuat variabel `nextnumber` untuk menghitung angka selanjutnya, elemen pada indeks `i` ditambah dengan elemeen pada indeks sebelumnya, `i-1`\n",
    "- Mengembalikan elemen paling terakhir pada list"
   ]
  },
  {
   "cell_type": "code",
   "execution_count": 48,
   "metadata": {},
   "outputs": [
    {
     "name": "stdout",
     "output_type": "stream",
     "text": [
      "Input:  10\n",
      "Output:  55\n"
     ]
    }
   ],
   "source": [
    "input = 10\n",
    "print(\"Input: \", input)\n",
    "print(\"Output: \", fibonacci(input))"
   ]
  }
 ],
 "metadata": {
  "kernelspec": {
   "display_name": "data_science",
   "language": "python",
   "name": "python3"
  },
  "language_info": {
   "codemirror_mode": {
    "name": "ipython",
    "version": 3
   },
   "file_extension": ".py",
   "mimetype": "text/x-python",
   "name": "python",
   "nbconvert_exporter": "python",
   "pygments_lexer": "ipython3",
   "version": "3.9.19"
  }
 },
 "nbformat": 4,
 "nbformat_minor": 2
}
