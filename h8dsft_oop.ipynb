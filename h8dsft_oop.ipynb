{
 "cells": [
  {
   "cell_type": "markdown",
   "metadata": {},
   "source": [
    "# NGC 3 Phase 0 Week 1 Day 4"
   ]
  },
  {
   "cell_type": "code",
   "execution_count": 6,
   "metadata": {},
   "outputs": [],
   "source": [
    "class Book:\n",
    "    def __init__(self, id, title, author):\n",
    "        self.id = id\n",
    "        self.title = title\n",
    "        self.author = author\n",
    "\n",
    "    def __str__(self):\n",
    "        return f\"ID: {self.id} | Title: {self.title} | Author: {self.author}\""
   ]
  },
  {
   "cell_type": "code",
   "execution_count": 7,
   "metadata": {},
   "outputs": [],
   "source": [
    "class LibraryCatalog:\n",
    "    \n",
    "    def __init__(self):\n",
    "        self.catalog = []\n",
    "    \n",
    "    #fungsi tambah buku\n",
    "    def add_book(self, book):\n",
    "\n",
    "        #memastikan apakah buku sudah ada di catalog\n",
    "        if book.author in self.catalog and book.title in self.catalog:\n",
    "            raise ValueError (\"Book already exists in the catalog\")\n",
    "        \n",
    "        #jika tidak ada buku ditambahkan ke katalog\n",
    "        else:\n",
    "            self.catalog.append(book)\n",
    "            print (f\"Book {book.title} from author {book.author} added\")\n",
    "    \n",
    "    #fungsi mencari buku dari author atau judul\n",
    "    def search_book(self, search):\n",
    "        #indikasi apakah buku ditemukan atau tidak\n",
    "        ketemu = False\n",
    "\n",
    "        #menelusuri buku di catalog\n",
    "        for book in self.catalog:\n",
    "            #mencocokkan nama buku atau author yang diinput dengan catalog\n",
    "            if search == book.author or search == book.title:\n",
    "                #jika ketemu maka indikasi ketemu diubah menjadi True dan di tampilkan\n",
    "                ketemu = True\n",
    "                print(\"Found: \\n\", book)\n",
    "        \n",
    "        #jika tidak ketemu mengeluarkan exception KeyError\n",
    "        if not ketemu:\n",
    "            raise KeyError(\"Book doesn't exist in the catalog\")\n",
    "        \n",
    "\n",
    "    #fungsi menghapus buku di katalog argumen diisi nama buku yang ingin dihapus\n",
    "    def delete_book(self, delete):\n",
    "        for book in self.catalog:\n",
    "            #mencocokkan input nama buku dan buku di katalog\n",
    "            if delete == book.title:\n",
    "                #buku dalam catalog dihapus\n",
    "                self.catalog.remove(book)\n",
    "                #notice penghapusan\n",
    "                return f\"Book {book.title} from author {book.author} deleted\"\n",
    "        \n",
    "        #jika judul buku tidak ditemukan di catalog maka mengeluarkan exception KeyError\n",
    "        raise KeyError(\"Book doesn't exist in the catalog\")\n",
    "    \n",
    "    #fungsi menampilkan catalog\n",
    "    def display_catalog(self):\n",
    "        #setiap buku dalam catalog ditelusuri lalu diprint satu persatu\n",
    "        for book in self.catalog:\n",
    "            print(book)  "
   ]
  },
  {
   "cell_type": "code",
   "execution_count": 8,
   "metadata": {},
   "outputs": [
    {
     "name": "stdout",
     "output_type": "stream",
     "text": [
      "Book 1984 from author George Orwell added\n",
      "Book Harry Potter and the Sorcerer's Stone from author J.K. Rowling added\n",
      "Book Harry Potter from author J.K. Rowling added\n",
      "ID: 1 | Title: 1984 | Author: George Orwell\n",
      "ID: 2 | Title: Harry Potter and the Sorcerer's Stone | Author: J.K. Rowling\n",
      "ID: 3 | Title: Harry Potter | Author: J.K. Rowling\n",
      "Found: \n",
      " ID: 2 | Title: Harry Potter and the Sorcerer's Stone | Author: J.K. Rowling\n",
      "Found: \n",
      " ID: 3 | Title: Harry Potter | Author: J.K. Rowling\n"
     ]
    }
   ],
   "source": [
    "library = LibraryCatalog()\n",
    "book1 = Book(1, \"1984\", \"George Orwell\")\n",
    "book2 = Book(2, \"Harry Potter and the Sorcerer's Stone\", \"J.K. Rowling\")\n",
    "book3 = Book(3, \"Harry Potter\", \"J.K. Rowling\")\n",
    "\n",
    "library.add_book(book1)\n",
    "library.add_book(book2)\n",
    "library.add_book(book3)\n",
    "\n",
    "library.display_catalog()\n",
    "\n",
    "library.search_book(\"J.K. Rowling\")"
   ]
  },
  {
   "cell_type": "code",
   "execution_count": 9,
   "metadata": {},
   "outputs": [
    {
     "ename": "KeyError",
     "evalue": "\"Book doesn't exist in the catalog\"",
     "output_type": "error",
     "traceback": [
      "\u001b[1;31m---------------------------------------------------------------------------\u001b[0m",
      "\u001b[1;31mKeyError\u001b[0m                                  Traceback (most recent call last)",
      "Cell \u001b[1;32mIn[9], line 2\u001b[0m\n\u001b[0;32m      1\u001b[0m library\u001b[38;5;241m.\u001b[39mdelete_book(\u001b[38;5;124m\"\u001b[39m\u001b[38;5;124mHarry Potter\u001b[39m\u001b[38;5;124m\"\u001b[39m)\n\u001b[1;32m----> 2\u001b[0m \u001b[43mlibrary\u001b[49m\u001b[38;5;241;43m.\u001b[39;49m\u001b[43msearch_book\u001b[49m\u001b[43m(\u001b[49m\u001b[38;5;124;43m\"\u001b[39;49m\u001b[38;5;124;43mHarry Potter\u001b[39;49m\u001b[38;5;124;43m\"\u001b[39;49m\u001b[43m)\u001b[49m\n",
      "Cell \u001b[1;32mIn[7], line 33\u001b[0m, in \u001b[0;36mLibraryCatalog.search_book\u001b[1;34m(self, search)\u001b[0m\n\u001b[0;32m     31\u001b[0m \u001b[38;5;66;03m#jika tidak ketemu mengeluarkan exception KeyError\u001b[39;00m\n\u001b[0;32m     32\u001b[0m \u001b[38;5;28;01mif\u001b[39;00m \u001b[38;5;129;01mnot\u001b[39;00m ketemu:\n\u001b[1;32m---> 33\u001b[0m     \u001b[38;5;28;01mraise\u001b[39;00m \u001b[38;5;167;01mKeyError\u001b[39;00m(\u001b[38;5;124m\"\u001b[39m\u001b[38;5;124mBook doesn\u001b[39m\u001b[38;5;124m'\u001b[39m\u001b[38;5;124mt exist in the catalog\u001b[39m\u001b[38;5;124m\"\u001b[39m)\n",
      "\u001b[1;31mKeyError\u001b[0m: \"Book doesn't exist in the catalog\""
     ]
    }
   ],
   "source": [
    "library.delete_book(\"Harry Potter\")\n",
    "library.search_book(\"Harry Potter\")"
   ]
  }
 ],
 "metadata": {
  "kernelspec": {
   "display_name": "data_science",
   "language": "python",
   "name": "python3"
  },
  "language_info": {
   "codemirror_mode": {
    "name": "ipython",
    "version": 3
   },
   "file_extension": ".py",
   "mimetype": "text/x-python",
   "name": "python",
   "nbconvert_exporter": "python",
   "pygments_lexer": "ipython3",
   "version": "3.9.19"
  }
 },
 "nbformat": 4,
 "nbformat_minor": 2
}
