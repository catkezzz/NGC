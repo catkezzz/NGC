{
 "cells": [
  {
   "cell_type": "markdown",
   "metadata": {},
   "source": [
    "# NGC 4 Phase 0 Week 1 Day 5"
   ]
  },
  {
   "cell_type": "markdown",
   "metadata": {},
   "source": [
    "## Library System dari NGC 3"
   ]
  },
  {
   "cell_type": "code",
   "execution_count": 1,
   "metadata": {},
   "outputs": [],
   "source": [
    "class Book:\n",
    "    def __init__(self, id, title, author):\n",
    "        self.id = id\n",
    "        self.title = title\n",
    "        self.author = author\n",
    "\n",
    "    def __str__(self):\n",
    "        return f\"ID: {self.id} | Title: {self.title} | Author: {self.author}\""
   ]
  },
  {
   "cell_type": "code",
   "execution_count": 2,
   "metadata": {},
   "outputs": [],
   "source": [
    "class LibraryCatalog:\n",
    "    \n",
    "    def __init__(self):\n",
    "        self.catalog = []\n",
    "    \n",
    "    #fungsi tambah buku\n",
    "    def add_book(self, book):\n",
    "        \n",
    "\n",
    "        #memastikan apakah buku sudah ada di catalog\n",
    "        if book.author in self.catalog and book.title in self.catalog:\n",
    "            print (\"Book already exists in the catalog\")\n",
    "        \n",
    "        #jika tidak ada buku ditambahkan ke katalog\n",
    "        else:\n",
    "            self.catalog.append(book)\n",
    "            print (f\"Book {book.title} from author {book.author} added\")\n",
    "    \n",
    "    #fungsi mencari buku dari author atau judul\n",
    "    def search_book(self, search):\n",
    "            \n",
    "        #indikasi apakah buku ditemukan atau tidak\n",
    "        ketemu = False\n",
    "\n",
    "        #menelusuri buku di catalog\n",
    "        for book in self.catalog:\n",
    "            #mencocokkan nama buku atau author yang diinput dengan catalog\n",
    "            if search == book.author or search == book.title:\n",
    "                #jika ketemu maka indikasi ketemu diubah menjadi True dan di tampilkan\n",
    "                ketemu = True\n",
    "                print(\"Found: \\n\", book)\n",
    "                return book\n",
    "    \n",
    "        #jika tidak ketemu mengeluarkan exception KeyError\n",
    "        if not ketemu:\n",
    "            raise KeyError(\"Book doesn't exist in the catalog\")\n",
    "\n",
    "\n",
    "    #fungsi menghapus buku di katalog argumen diisi nama buku yang ingin dihapus\n",
    "    def delete_book(self, delete):\n",
    "        ketemu = False\n",
    "        for book in self.catalog:\n",
    "            #mencocokkan input nama buku dan buku di katalog\n",
    "            if delete == book.title:\n",
    "                ketemu = True\n",
    "                #buku dalam catalog dihapus\n",
    "                self.catalog.remove(book)\n",
    "                #notice penghapusan\n",
    "                print( f\"Book {book.title} from author {book.author} deleted\")\n",
    "        \n",
    "        #jika judul buku tidak ditemukan di catalog maka mengeluarkan exception KeyError\n",
    "        if not ketemu:\n",
    "            raise KeyError(\"Book doesn't exist in the catalog\")\n",
    "    \n",
    "    #fungsi menampilkan catalog\n",
    "    def display_catalog(self):\n",
    "        bookcatalog = []\n",
    "        #setiap buku dalam catalog ditelusuri lalu diprint satu persatu\n",
    "        for book in self.catalog:\n",
    "            print(book)\n",
    "            bookcatalog.append(book)\n",
    "        return bookcatalog  "
   ]
  },
  {
   "cell_type": "markdown",
   "metadata": {},
   "source": [
    "- Perubahan dibagian function `search_book` dan `display_catalog`, function me-return variabel. Objek `book` untuk search, dan list `bookcatalog` untuk display, keduanya menyimpan data yang akan didisplay. Variabel ini yang akan digunakan pada assertion"
   ]
  },
  {
   "cell_type": "markdown",
   "metadata": {},
   "source": [
    "## Unit Testing"
   ]
  },
  {
   "cell_type": "code",
   "execution_count": 3,
   "metadata": {},
   "outputs": [],
   "source": [
    "import unittest"
   ]
  },
  {
   "cell_type": "code",
   "execution_count": 4,
   "metadata": {},
   "outputs": [],
   "source": [
    "class TestLibraryCatalog(unittest.TestCase):\n",
    "\n",
    "    def test_add_book(self):\n",
    "\n",
    "        self.library = LibraryCatalog()\n",
    "\n",
    "        self.book1 = Book(1, \"1984\", \"George Orwell\")\n",
    "        self.book2 = Book(2, \"Harry Potter and the Sorcerer's Stone\", \"J.K. Rowling\")\n",
    "        self.book3 = Book(3, \"The Hunger Games\", \"Suzanne Collins\")\n",
    "\n",
    "        self.library.add_book(self.book1)\n",
    "        self.library.add_book(self.book2)\n",
    "        self.library.add_book(self.book3)\n",
    "        self.assertIn(self.book1, self.library.catalog)\n",
    "        self.assertIn(self.book2, self.library.catalog)\n",
    "        self.assertIn(self.book3, self.library.catalog)\n",
    "    \n",
    "    def test_search_book(self):\n",
    "        self.library = LibraryCatalog()\n",
    "        self.book1 = Book(1, \"1984\", \"George Orwell\")\n",
    "\n",
    "        self.library.add_book(self.book1)\n",
    "        self.assertEqual(self.library.search_book(\"1984\"), self.book1)\n",
    "        self.assertRaises(KeyError, self.library.search_book, \"The Hunger Games\")\n",
    "\n",
    "    def test_remove_book(self):\n",
    "        self.library = LibraryCatalog()\n",
    "        self.book1 = Book(1, \"1984\", \"George Orwell\")\n",
    "\n",
    "        self.library.add_book(self.book1)\n",
    "\n",
    "        self.library.delete_book(\"1984\")\n",
    "        self.assertNotIn(self.book1, self.library.catalog)\n",
    "        self.assertRaises(KeyError, self.library.delete_book, \"The Hunger Games\")\n",
    "    \n",
    "    def test_display_book(self):\n",
    "        self.library = LibraryCatalog()\n",
    "\n",
    "        self.book1 = Book(1, \"1984\", \"George Orwell\")\n",
    "        self.book2 = Book(2, \"Harry Potter and the Sorcerer's Stone\", \"J.K. Rowling\")\n",
    "\n",
    "        self.library.add_book(self.book1)\n",
    "        self.library.add_book(self.book2)\n",
    "\n",
    "        self.assertEqual(self.library.display_catalog(), [self.book1, self.book2])"
   ]
  },
  {
   "cell_type": "code",
   "execution_count": 5,
   "metadata": {},
   "outputs": [
    {
     "name": "stderr",
     "output_type": "stream",
     "text": [
      "....\n",
      "----------------------------------------------------------------------\n",
      "Ran 4 tests in 0.006s\n",
      "\n",
      "OK\n"
     ]
    },
    {
     "name": "stdout",
     "output_type": "stream",
     "text": [
      "Book 1984 from author George Orwell added\n",
      "Book Harry Potter and the Sorcerer's Stone from author J.K. Rowling added\n",
      "Book The Hunger Games from author Suzanne Collins added\n",
      "Book 1984 from author George Orwell added\n",
      "Book Harry Potter and the Sorcerer's Stone from author J.K. Rowling added\n",
      "ID: 1 | Title: 1984 | Author: George Orwell\n",
      "ID: 2 | Title: Harry Potter and the Sorcerer's Stone | Author: J.K. Rowling\n",
      "Book 1984 from author George Orwell added\n",
      "Book 1984 from author George Orwell deleted\n",
      "Book 1984 from author George Orwell added\n",
      "Found: \n",
      " ID: 1 | Title: 1984 | Author: George Orwell\n"
     ]
    },
    {
     "data": {
      "text/plain": [
       "<unittest.main.TestProgram at 0x1c433547640>"
      ]
     },
     "execution_count": 5,
     "metadata": {},
     "output_type": "execute_result"
    }
   ],
   "source": [
    "unittest.main(argv=[''], exit=False)"
   ]
  }
 ],
 "metadata": {
  "kernelspec": {
   "display_name": "data_science",
   "language": "python",
   "name": "python3"
  },
  "language_info": {
   "codemirror_mode": {
    "name": "ipython",
    "version": 3
   },
   "file_extension": ".py",
   "mimetype": "text/x-python",
   "name": "python",
   "nbconvert_exporter": "python",
   "pygments_lexer": "ipython3",
   "version": "3.9.19"
  }
 },
 "nbformat": 4,
 "nbformat_minor": 2
}
